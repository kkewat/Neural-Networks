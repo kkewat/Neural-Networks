{
  "nbformat": 4,
  "nbformat_minor": 0,
  "metadata": {
    "colab": {
      "provenance": []
    },
    "kernelspec": {
      "name": "python3",
      "display_name": "Python 3"
    },
    "language_info": {
      "name": "python"
    }
  },
  "cells": [
    {
      "cell_type": "markdown",
      "source": [
        "Importing the basic needed libraries"
      ],
      "metadata": {
        "id": "4KU2LeA9WCti"
      }
    },
    {
      "cell_type": "code",
      "execution_count": 1,
      "metadata": {
        "id": "jjYUDjNjV7aZ"
      },
      "outputs": [],
      "source": [
        "import pandas as pd\n",
        "import numpy as np\n",
        "from sklearn.model_selection import train_test_split\n",
        "from sklearn.preprocessing import MinMaxScaler\n",
        "from sklearn.preprocessing import StandardScaler"
      ]
    },
    {
      "cell_type": "markdown",
      "source": [
        "importing the tensoflow libraries for building the ANN"
      ],
      "metadata": {
        "id": "WTSR3rH-WvNA"
      }
    },
    {
      "cell_type": "code",
      "source": [
        "import tensorflow as tf\n",
        "from tensorflow import keras\n",
        "from tensorflow.keras import Sequential\n",
        "from tensorflow.keras.layers import Dense"
      ],
      "metadata": {
        "id": "6NiV-xwHWjua"
      },
      "execution_count": 4,
      "outputs": []
    },
    {
      "cell_type": "markdown",
      "source": [
        "importing the dataset"
      ],
      "metadata": {
        "id": "Qi8yONwpX3yZ"
      }
    },
    {
      "cell_type": "code",
      "source": [
        "df = pd.read_csv('gld_price_data.csv')"
      ],
      "metadata": {
        "id": "aC42N_vyXcg2"
      },
      "execution_count": 5,
      "outputs": []
    },
    {
      "cell_type": "code",
      "source": [
        "df.head()"
      ],
      "metadata": {
        "colab": {
          "base_uri": "https://localhost:8080/",
          "height": 206
        },
        "id": "gla93UiIZOL3",
        "outputId": "3fa9b24b-af73-4a28-fe0a-a4f659b37360"
      },
      "execution_count": 6,
      "outputs": [
        {
          "output_type": "execute_result",
          "data": {
            "text/plain": [
              "       Date          SPX        GLD        USO     SLV   EUR/USD\n",
              "0  01/02/08  1447.160034  84.860001  78.470001  15.180  1.471692\n",
              "1  01/03/08  1447.160034  85.570000  78.370003  15.285  1.474491\n",
              "2  01/04/08  1411.630005  85.129997  77.309998  15.167  1.475492\n",
              "3  01/07/08  1416.180054  84.769997  75.500000  15.053  1.468299\n",
              "4  01/08/08  1390.189941  86.779999  76.059998  15.590  1.557099"
            ],
            "text/html": [
              "\n",
              "  <div id=\"df-1cb3f961-e2d3-4e98-a210-e774f5eb32f2\" class=\"colab-df-container\">\n",
              "    <div>\n",
              "<style scoped>\n",
              "    .dataframe tbody tr th:only-of-type {\n",
              "        vertical-align: middle;\n",
              "    }\n",
              "\n",
              "    .dataframe tbody tr th {\n",
              "        vertical-align: top;\n",
              "    }\n",
              "\n",
              "    .dataframe thead th {\n",
              "        text-align: right;\n",
              "    }\n",
              "</style>\n",
              "<table border=\"1\" class=\"dataframe\">\n",
              "  <thead>\n",
              "    <tr style=\"text-align: right;\">\n",
              "      <th></th>\n",
              "      <th>Date</th>\n",
              "      <th>SPX</th>\n",
              "      <th>GLD</th>\n",
              "      <th>USO</th>\n",
              "      <th>SLV</th>\n",
              "      <th>EUR/USD</th>\n",
              "    </tr>\n",
              "  </thead>\n",
              "  <tbody>\n",
              "    <tr>\n",
              "      <th>0</th>\n",
              "      <td>01/02/08</td>\n",
              "      <td>1447.160034</td>\n",
              "      <td>84.860001</td>\n",
              "      <td>78.470001</td>\n",
              "      <td>15.180</td>\n",
              "      <td>1.471692</td>\n",
              "    </tr>\n",
              "    <tr>\n",
              "      <th>1</th>\n",
              "      <td>01/03/08</td>\n",
              "      <td>1447.160034</td>\n",
              "      <td>85.570000</td>\n",
              "      <td>78.370003</td>\n",
              "      <td>15.285</td>\n",
              "      <td>1.474491</td>\n",
              "    </tr>\n",
              "    <tr>\n",
              "      <th>2</th>\n",
              "      <td>01/04/08</td>\n",
              "      <td>1411.630005</td>\n",
              "      <td>85.129997</td>\n",
              "      <td>77.309998</td>\n",
              "      <td>15.167</td>\n",
              "      <td>1.475492</td>\n",
              "    </tr>\n",
              "    <tr>\n",
              "      <th>3</th>\n",
              "      <td>01/07/08</td>\n",
              "      <td>1416.180054</td>\n",
              "      <td>84.769997</td>\n",
              "      <td>75.500000</td>\n",
              "      <td>15.053</td>\n",
              "      <td>1.468299</td>\n",
              "    </tr>\n",
              "    <tr>\n",
              "      <th>4</th>\n",
              "      <td>01/08/08</td>\n",
              "      <td>1390.189941</td>\n",
              "      <td>86.779999</td>\n",
              "      <td>76.059998</td>\n",
              "      <td>15.590</td>\n",
              "      <td>1.557099</td>\n",
              "    </tr>\n",
              "  </tbody>\n",
              "</table>\n",
              "</div>\n",
              "    <div class=\"colab-df-buttons\">\n",
              "\n",
              "  <div class=\"colab-df-container\">\n",
              "    <button class=\"colab-df-convert\" onclick=\"convertToInteractive('df-1cb3f961-e2d3-4e98-a210-e774f5eb32f2')\"\n",
              "            title=\"Convert this dataframe to an interactive table.\"\n",
              "            style=\"display:none;\">\n",
              "\n",
              "  <svg xmlns=\"http://www.w3.org/2000/svg\" height=\"24px\" viewBox=\"0 -960 960 960\">\n",
              "    <path d=\"M120-120v-720h720v720H120Zm60-500h600v-160H180v160Zm220 220h160v-160H400v160Zm0 220h160v-160H400v160ZM180-400h160v-160H180v160Zm440 0h160v-160H620v160ZM180-180h160v-160H180v160Zm440 0h160v-160H620v160Z\"/>\n",
              "  </svg>\n",
              "    </button>\n",
              "\n",
              "  <style>\n",
              "    .colab-df-container {\n",
              "      display:flex;\n",
              "      gap: 12px;\n",
              "    }\n",
              "\n",
              "    .colab-df-convert {\n",
              "      background-color: #E8F0FE;\n",
              "      border: none;\n",
              "      border-radius: 50%;\n",
              "      cursor: pointer;\n",
              "      display: none;\n",
              "      fill: #1967D2;\n",
              "      height: 32px;\n",
              "      padding: 0 0 0 0;\n",
              "      width: 32px;\n",
              "    }\n",
              "\n",
              "    .colab-df-convert:hover {\n",
              "      background-color: #E2EBFA;\n",
              "      box-shadow: 0px 1px 2px rgba(60, 64, 67, 0.3), 0px 1px 3px 1px rgba(60, 64, 67, 0.15);\n",
              "      fill: #174EA6;\n",
              "    }\n",
              "\n",
              "    .colab-df-buttons div {\n",
              "      margin-bottom: 4px;\n",
              "    }\n",
              "\n",
              "    [theme=dark] .colab-df-convert {\n",
              "      background-color: #3B4455;\n",
              "      fill: #D2E3FC;\n",
              "    }\n",
              "\n",
              "    [theme=dark] .colab-df-convert:hover {\n",
              "      background-color: #434B5C;\n",
              "      box-shadow: 0px 1px 3px 1px rgba(0, 0, 0, 0.15);\n",
              "      filter: drop-shadow(0px 1px 2px rgba(0, 0, 0, 0.3));\n",
              "      fill: #FFFFFF;\n",
              "    }\n",
              "  </style>\n",
              "\n",
              "    <script>\n",
              "      const buttonEl =\n",
              "        document.querySelector('#df-1cb3f961-e2d3-4e98-a210-e774f5eb32f2 button.colab-df-convert');\n",
              "      buttonEl.style.display =\n",
              "        google.colab.kernel.accessAllowed ? 'block' : 'none';\n",
              "\n",
              "      async function convertToInteractive(key) {\n",
              "        const element = document.querySelector('#df-1cb3f961-e2d3-4e98-a210-e774f5eb32f2');\n",
              "        const dataTable =\n",
              "          await google.colab.kernel.invokeFunction('convertToInteractive',\n",
              "                                                    [key], {});\n",
              "        if (!dataTable) return;\n",
              "\n",
              "        const docLinkHtml = 'Like what you see? Visit the ' +\n",
              "          '<a target=\"_blank\" href=https://colab.research.google.com/notebooks/data_table.ipynb>data table notebook</a>'\n",
              "          + ' to learn more about interactive tables.';\n",
              "        element.innerHTML = '';\n",
              "        dataTable['output_type'] = 'display_data';\n",
              "        await google.colab.output.renderOutput(dataTable, element);\n",
              "        const docLink = document.createElement('div');\n",
              "        docLink.innerHTML = docLinkHtml;\n",
              "        element.appendChild(docLink);\n",
              "      }\n",
              "    </script>\n",
              "  </div>\n",
              "\n",
              "\n",
              "<div id=\"df-ae044adc-bdff-403f-8bd7-9312cd24f116\">\n",
              "  <button class=\"colab-df-quickchart\" onclick=\"quickchart('df-ae044adc-bdff-403f-8bd7-9312cd24f116')\"\n",
              "            title=\"Suggest charts\"\n",
              "            style=\"display:none;\">\n",
              "\n",
              "<svg xmlns=\"http://www.w3.org/2000/svg\" height=\"24px\"viewBox=\"0 0 24 24\"\n",
              "     width=\"24px\">\n",
              "    <g>\n",
              "        <path d=\"M19 3H5c-1.1 0-2 .9-2 2v14c0 1.1.9 2 2 2h14c1.1 0 2-.9 2-2V5c0-1.1-.9-2-2-2zM9 17H7v-7h2v7zm4 0h-2V7h2v10zm4 0h-2v-4h2v4z\"/>\n",
              "    </g>\n",
              "</svg>\n",
              "  </button>\n",
              "\n",
              "<style>\n",
              "  .colab-df-quickchart {\n",
              "      --bg-color: #E8F0FE;\n",
              "      --fill-color: #1967D2;\n",
              "      --hover-bg-color: #E2EBFA;\n",
              "      --hover-fill-color: #174EA6;\n",
              "      --disabled-fill-color: #AAA;\n",
              "      --disabled-bg-color: #DDD;\n",
              "  }\n",
              "\n",
              "  [theme=dark] .colab-df-quickchart {\n",
              "      --bg-color: #3B4455;\n",
              "      --fill-color: #D2E3FC;\n",
              "      --hover-bg-color: #434B5C;\n",
              "      --hover-fill-color: #FFFFFF;\n",
              "      --disabled-bg-color: #3B4455;\n",
              "      --disabled-fill-color: #666;\n",
              "  }\n",
              "\n",
              "  .colab-df-quickchart {\n",
              "    background-color: var(--bg-color);\n",
              "    border: none;\n",
              "    border-radius: 50%;\n",
              "    cursor: pointer;\n",
              "    display: none;\n",
              "    fill: var(--fill-color);\n",
              "    height: 32px;\n",
              "    padding: 0;\n",
              "    width: 32px;\n",
              "  }\n",
              "\n",
              "  .colab-df-quickchart:hover {\n",
              "    background-color: var(--hover-bg-color);\n",
              "    box-shadow: 0 1px 2px rgba(60, 64, 67, 0.3), 0 1px 3px 1px rgba(60, 64, 67, 0.15);\n",
              "    fill: var(--button-hover-fill-color);\n",
              "  }\n",
              "\n",
              "  .colab-df-quickchart-complete:disabled,\n",
              "  .colab-df-quickchart-complete:disabled:hover {\n",
              "    background-color: var(--disabled-bg-color);\n",
              "    fill: var(--disabled-fill-color);\n",
              "    box-shadow: none;\n",
              "  }\n",
              "\n",
              "  .colab-df-spinner {\n",
              "    border: 2px solid var(--fill-color);\n",
              "    border-color: transparent;\n",
              "    border-bottom-color: var(--fill-color);\n",
              "    animation:\n",
              "      spin 1s steps(1) infinite;\n",
              "  }\n",
              "\n",
              "  @keyframes spin {\n",
              "    0% {\n",
              "      border-color: transparent;\n",
              "      border-bottom-color: var(--fill-color);\n",
              "      border-left-color: var(--fill-color);\n",
              "    }\n",
              "    20% {\n",
              "      border-color: transparent;\n",
              "      border-left-color: var(--fill-color);\n",
              "      border-top-color: var(--fill-color);\n",
              "    }\n",
              "    30% {\n",
              "      border-color: transparent;\n",
              "      border-left-color: var(--fill-color);\n",
              "      border-top-color: var(--fill-color);\n",
              "      border-right-color: var(--fill-color);\n",
              "    }\n",
              "    40% {\n",
              "      border-color: transparent;\n",
              "      border-right-color: var(--fill-color);\n",
              "      border-top-color: var(--fill-color);\n",
              "    }\n",
              "    60% {\n",
              "      border-color: transparent;\n",
              "      border-right-color: var(--fill-color);\n",
              "    }\n",
              "    80% {\n",
              "      border-color: transparent;\n",
              "      border-right-color: var(--fill-color);\n",
              "      border-bottom-color: var(--fill-color);\n",
              "    }\n",
              "    90% {\n",
              "      border-color: transparent;\n",
              "      border-bottom-color: var(--fill-color);\n",
              "    }\n",
              "  }\n",
              "</style>\n",
              "\n",
              "  <script>\n",
              "    async function quickchart(key) {\n",
              "      const quickchartButtonEl =\n",
              "        document.querySelector('#' + key + ' button');\n",
              "      quickchartButtonEl.disabled = true;  // To prevent multiple clicks.\n",
              "      quickchartButtonEl.classList.add('colab-df-spinner');\n",
              "      try {\n",
              "        const charts = await google.colab.kernel.invokeFunction(\n",
              "            'suggestCharts', [key], {});\n",
              "      } catch (error) {\n",
              "        console.error('Error during call to suggestCharts:', error);\n",
              "      }\n",
              "      quickchartButtonEl.classList.remove('colab-df-spinner');\n",
              "      quickchartButtonEl.classList.add('colab-df-quickchart-complete');\n",
              "    }\n",
              "    (() => {\n",
              "      let quickchartButtonEl =\n",
              "        document.querySelector('#df-ae044adc-bdff-403f-8bd7-9312cd24f116 button');\n",
              "      quickchartButtonEl.style.display =\n",
              "        google.colab.kernel.accessAllowed ? 'block' : 'none';\n",
              "    })();\n",
              "  </script>\n",
              "</div>\n",
              "\n",
              "    </div>\n",
              "  </div>\n"
            ]
          },
          "metadata": {},
          "execution_count": 6
        }
      ]
    },
    {
      "cell_type": "markdown",
      "source": [
        "In the above GLD is our traget variable as it contains the Gold Price that we want to predict and the rest are the features we are going to use"
      ],
      "metadata": {
        "id": "inX7TODWZVo4"
      }
    },
    {
      "cell_type": "code",
      "source": [
        "# Seperating the independent and dependent Variables\n",
        "\n",
        "X = df[['SPX','USO','SLV','EUR/USD']]\n",
        "y = df['GLD']"
      ],
      "metadata": {
        "id": "odiTLi68ZSRb"
      },
      "execution_count": 13,
      "outputs": []
    },
    {
      "cell_type": "markdown",
      "source": [
        "Spliting the dataset into train test set"
      ],
      "metadata": {
        "id": "rUtAsuw4aqMC"
      }
    },
    {
      "cell_type": "code",
      "source": [
        "train_x, test_x, train_y, test_y = train_test_split(X,y, test_size = 0.2)"
      ],
      "metadata": {
        "id": "XFjp4mXCaoxf"
      },
      "execution_count": 14,
      "outputs": []
    },
    {
      "cell_type": "markdown",
      "source": [
        "Scaling the Data"
      ],
      "metadata": {
        "id": "CsQ7X8o_bXN0"
      }
    },
    {
      "cell_type": "code",
      "source": [
        "scaler = MinMaxScaler()"
      ],
      "metadata": {
        "id": "nPCiCUhvbAN4"
      },
      "execution_count": 15,
      "outputs": []
    },
    {
      "cell_type": "code",
      "source": [
        "train_x_scaled = scaler.fit_transform(train_x)\n",
        "test_x_scaled = scaler.fit_transform(test_x)"
      ],
      "metadata": {
        "id": "DvkIAKn0be15"
      },
      "execution_count": 16,
      "outputs": []
    },
    {
      "cell_type": "markdown",
      "source": [
        "initializing the model"
      ],
      "metadata": {
        "id": "yq4zZrFrcTlu"
      }
    },
    {
      "cell_type": "code",
      "source": [
        "model = Sequential()"
      ],
      "metadata": {
        "id": "z8wgLhtmcGvA"
      },
      "execution_count": 21,
      "outputs": []
    },
    {
      "cell_type": "markdown",
      "source": [
        "Adding the layers in the model"
      ],
      "metadata": {
        "id": "qrlgrfuccZ7j"
      }
    },
    {
      "cell_type": "code",
      "source": [
        "model.add(Dense(10,activation='relu',input_dim=4))\n",
        "model.add(Dense(10,activation='relu'))\n",
        "model.add(Dense(1,activation='linear'))"
      ],
      "metadata": {
        "id": "r_o2E2V0cZiz"
      },
      "execution_count": 22,
      "outputs": []
    },
    {
      "cell_type": "markdown",
      "source": [
        "Compiling the model"
      ],
      "metadata": {
        "id": "JRoYTAf9d3BI"
      }
    },
    {
      "cell_type": "code",
      "source": [
        "model.compile(loss=\"mean_squared_error\",optimizer='Adam')"
      ],
      "metadata": {
        "id": "1HsrR7sGdmXL"
      },
      "execution_count": 23,
      "outputs": []
    },
    {
      "cell_type": "markdown",
      "source": [
        "Fiting the features in the Model"
      ],
      "metadata": {
        "id": "rwn8G2-geYEJ"
      }
    },
    {
      "cell_type": "code",
      "source": [
        "history = model.fit(train_x_scaled,train_y,epochs=50, validation_split=0.1)"
      ],
      "metadata": {
        "colab": {
          "base_uri": "https://localhost:8080/"
        },
        "id": "yQ96FBPyd2qb",
        "outputId": "8b5de3c3-f206-4a73-a45c-cb83bc98ea7c"
      },
      "execution_count": 24,
      "outputs": [
        {
          "output_type": "stream",
          "name": "stdout",
          "text": [
            "Epoch 1/50\n",
            "52/52 [==============================] - 1s 8ms/step - loss: 15354.8701 - val_loss: 15303.2012\n",
            "Epoch 2/50\n",
            "52/52 [==============================] - 0s 3ms/step - loss: 15139.3662 - val_loss: 15036.4404\n",
            "Epoch 3/50\n",
            "52/52 [==============================] - 0s 2ms/step - loss: 14772.9951 - val_loss: 14520.4297\n",
            "Epoch 4/50\n",
            "52/52 [==============================] - 0s 2ms/step - loss: 14071.3516 - val_loss: 13547.4072\n",
            "Epoch 5/50\n",
            "52/52 [==============================] - 0s 2ms/step - loss: 12813.8857 - val_loss: 11926.6885\n",
            "Epoch 6/50\n",
            "52/52 [==============================] - 0s 2ms/step - loss: 10907.2168 - val_loss: 9679.2686\n",
            "Epoch 7/50\n",
            "52/52 [==============================] - 0s 2ms/step - loss: 8451.4443 - val_loss: 7017.8311\n",
            "Epoch 8/50\n",
            "52/52 [==============================] - 0s 2ms/step - loss: 5806.7959 - val_loss: 4471.9189\n",
            "Epoch 9/50\n",
            "52/52 [==============================] - 0s 3ms/step - loss: 3488.1372 - val_loss: 2508.8267\n",
            "Epoch 10/50\n",
            "52/52 [==============================] - 0s 2ms/step - loss: 1874.6720 - val_loss: 1378.3411\n",
            "Epoch 11/50\n",
            "52/52 [==============================] - 0s 2ms/step - loss: 1029.7368 - val_loss: 909.3469\n",
            "Epoch 12/50\n",
            "52/52 [==============================] - 0s 3ms/step - loss: 704.0725 - val_loss: 774.2377\n",
            "Epoch 13/50\n",
            "52/52 [==============================] - 0s 2ms/step - loss: 601.6517 - val_loss: 739.3520\n",
            "Epoch 14/50\n",
            "52/52 [==============================] - 0s 3ms/step - loss: 566.0369 - val_loss: 717.0433\n",
            "Epoch 15/50\n",
            "52/52 [==============================] - 0s 2ms/step - loss: 542.8632 - val_loss: 694.9147\n",
            "Epoch 16/50\n",
            "52/52 [==============================] - 0s 2ms/step - loss: 523.2706 - val_loss: 671.1578\n",
            "Epoch 17/50\n",
            "52/52 [==============================] - 0s 2ms/step - loss: 504.2905 - val_loss: 647.7144\n",
            "Epoch 18/50\n",
            "52/52 [==============================] - 0s 2ms/step - loss: 485.9238 - val_loss: 623.4458\n",
            "Epoch 19/50\n",
            "52/52 [==============================] - 0s 3ms/step - loss: 467.8931 - val_loss: 601.7653\n",
            "Epoch 20/50\n",
            "52/52 [==============================] - 0s 2ms/step - loss: 451.0617 - val_loss: 579.7788\n",
            "Epoch 21/50\n",
            "52/52 [==============================] - 0s 2ms/step - loss: 434.4283 - val_loss: 557.2608\n",
            "Epoch 22/50\n",
            "52/52 [==============================] - 0s 2ms/step - loss: 418.5165 - val_loss: 536.4137\n",
            "Epoch 23/50\n",
            "52/52 [==============================] - 0s 2ms/step - loss: 403.1916 - val_loss: 517.6438\n",
            "Epoch 24/50\n",
            "52/52 [==============================] - 0s 3ms/step - loss: 388.9624 - val_loss: 497.8076\n",
            "Epoch 25/50\n",
            "52/52 [==============================] - 0s 2ms/step - loss: 374.5983 - val_loss: 479.1699\n",
            "Epoch 26/50\n",
            "52/52 [==============================] - 0s 2ms/step - loss: 360.7046 - val_loss: 460.0260\n",
            "Epoch 27/50\n",
            "52/52 [==============================] - 0s 2ms/step - loss: 347.3575 - val_loss: 443.0273\n",
            "Epoch 28/50\n",
            "52/52 [==============================] - 0s 2ms/step - loss: 334.8291 - val_loss: 426.8863\n",
            "Epoch 29/50\n",
            "52/52 [==============================] - 0s 2ms/step - loss: 323.1227 - val_loss: 409.7627\n",
            "Epoch 30/50\n",
            "52/52 [==============================] - 0s 2ms/step - loss: 311.1533 - val_loss: 394.4963\n",
            "Epoch 31/50\n",
            "52/52 [==============================] - 0s 2ms/step - loss: 300.0978 - val_loss: 379.6764\n",
            "Epoch 32/50\n",
            "52/52 [==============================] - 0s 2ms/step - loss: 289.0246 - val_loss: 365.4472\n",
            "Epoch 33/50\n",
            "52/52 [==============================] - 0s 2ms/step - loss: 278.8300 - val_loss: 351.7288\n",
            "Epoch 34/50\n",
            "52/52 [==============================] - 0s 3ms/step - loss: 268.8689 - val_loss: 338.1295\n",
            "Epoch 35/50\n",
            "52/52 [==============================] - 0s 3ms/step - loss: 259.1103 - val_loss: 325.0268\n",
            "Epoch 36/50\n",
            "52/52 [==============================] - 0s 3ms/step - loss: 249.8943 - val_loss: 312.1749\n",
            "Epoch 37/50\n",
            "52/52 [==============================] - 0s 2ms/step - loss: 240.8868 - val_loss: 301.1197\n",
            "Epoch 38/50\n",
            "52/52 [==============================] - 0s 3ms/step - loss: 231.8265 - val_loss: 288.3582\n",
            "Epoch 39/50\n",
            "52/52 [==============================] - 0s 3ms/step - loss: 223.7792 - val_loss: 277.1262\n",
            "Epoch 40/50\n",
            "52/52 [==============================] - 0s 2ms/step - loss: 215.2513 - val_loss: 266.8219\n",
            "Epoch 41/50\n",
            "52/52 [==============================] - 0s 2ms/step - loss: 207.6252 - val_loss: 256.0508\n",
            "Epoch 42/50\n",
            "52/52 [==============================] - 0s 3ms/step - loss: 199.8349 - val_loss: 245.8152\n",
            "Epoch 43/50\n",
            "52/52 [==============================] - 0s 3ms/step - loss: 192.5693 - val_loss: 236.2424\n",
            "Epoch 44/50\n",
            "52/52 [==============================] - 0s 2ms/step - loss: 185.7184 - val_loss: 226.8253\n",
            "Epoch 45/50\n",
            "52/52 [==============================] - 0s 3ms/step - loss: 178.8682 - val_loss: 217.7751\n",
            "Epoch 46/50\n",
            "52/52 [==============================] - 0s 2ms/step - loss: 172.3428 - val_loss: 208.9591\n",
            "Epoch 47/50\n",
            "52/52 [==============================] - 0s 2ms/step - loss: 165.8825 - val_loss: 201.0070\n",
            "Epoch 48/50\n",
            "52/52 [==============================] - 0s 2ms/step - loss: 159.8241 - val_loss: 192.8590\n",
            "Epoch 49/50\n",
            "52/52 [==============================] - 0s 2ms/step - loss: 154.0954 - val_loss: 184.9238\n",
            "Epoch 50/50\n",
            "52/52 [==============================] - 0s 3ms/step - loss: 148.3589 - val_loss: 177.8466\n"
          ]
        }
      ]
    },
    {
      "cell_type": "markdown",
      "source": [
        "Presicting the test data"
      ],
      "metadata": {
        "id": "ahAAXmZHemRY"
      }
    },
    {
      "cell_type": "code",
      "source": [
        "y_pred = model.predict(test_x_scaled)"
      ],
      "metadata": {
        "colab": {
          "base_uri": "https://localhost:8080/"
        },
        "id": "56dd1DmjeeXm",
        "outputId": "35a7ff8c-626f-4ea6-fa29-3636c0fefa91"
      },
      "execution_count": 26,
      "outputs": [
        {
          "output_type": "stream",
          "name": "stdout",
          "text": [
            "15/15 [==============================] - 0s 2ms/step\n"
          ]
        }
      ]
    },
    {
      "cell_type": "markdown",
      "source": [
        "Evaluating the model score"
      ],
      "metadata": {
        "id": "GBEPe_2JfFvx"
      }
    },
    {
      "cell_type": "code",
      "source": [
        "from sklearn.metrics import r2_score"
      ],
      "metadata": {
        "id": "DPsRtV4xe2LZ"
      },
      "execution_count": 27,
      "outputs": []
    },
    {
      "cell_type": "code",
      "source": [
        "r2_score(test_y, y_pred)"
      ],
      "metadata": {
        "colab": {
          "base_uri": "https://localhost:8080/"
        },
        "id": "fBdiDWuqfOy6",
        "outputId": "207a5b7b-0a47-4ed3-c423-954c11e5c007"
      },
      "execution_count": 28,
      "outputs": [
        {
          "output_type": "execute_result",
          "data": {
            "text/plain": [
              "0.7278749013036871"
            ]
          },
          "metadata": {},
          "execution_count": 28
        }
      ]
    }
  ]
}