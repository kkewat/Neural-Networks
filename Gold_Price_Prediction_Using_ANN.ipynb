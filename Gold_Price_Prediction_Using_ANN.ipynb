{
  "nbformat": 4,
  "nbformat_minor": 0,
  "metadata": {
    "colab": {
      "provenance": [],
      "authorship_tag": "ABX9TyNEzd59ZPYPTw6oNTgw8Jnh",
      "include_colab_link": true
    },
    "kernelspec": {
      "name": "python3",
      "display_name": "Python 3"
    },
    "language_info": {
      "name": "python"
    }
  },
  "cells": [
    {
      "cell_type": "markdown",
      "metadata": {
        "id": "view-in-github",
        "colab_type": "text"
      },
      "source": [
        "<a href=\"https://colab.research.google.com/github/kkewat/Neural-Networks/blob/main/Gold_Price_Prediction_Using_ANN.ipynb\" target=\"_parent\"><img src=\"https://colab.research.google.com/assets/colab-badge.svg\" alt=\"Open In Colab\"/></a>"
      ]
    },
    {
      "cell_type": "markdown",
      "source": [
        "Importing the basic needed libraries"
      ],
      "metadata": {
        "id": "4KU2LeA9WCti"
      }
    },
    {
      "cell_type": "code",
      "execution_count": null,
      "metadata": {
        "id": "jjYUDjNjV7aZ"
      },
      "outputs": [],
      "source": [
        "import pandas as pd\n",
        "import numpy as np\n",
        "from sklearn.model_selection import train_test_split\n",
        "from sklearn.preprocessing import MinMaxScaler\n",
        "from sklearn.preprocessing import StandardScaler"
      ]
    },
    {
      "cell_type": "markdown",
      "source": [
        "importing the tensoflow libraries for building the ANN"
      ],
      "metadata": {
        "id": "WTSR3rH-WvNA"
      }
    },
    {
      "cell_type": "code",
      "source": [
        "import tensorflow as tf\n",
        "from tensorflow import keras\n",
        "from tensorflow.keras import Sequential\n",
        "from tensorflow.keras.layers import Dense"
      ],
      "metadata": {
        "id": "6NiV-xwHWjua"
      },
      "execution_count": null,
      "outputs": []
    },
    {
      "cell_type": "markdown",
      "source": [
        "importing the dataset"
      ],
      "metadata": {
        "id": "Qi8yONwpX3yZ"
      }
    },
    {
      "cell_type": "code",
      "source": [
        "df = pd.read_csv('gld_price_data.csv')"
      ],
      "metadata": {
        "id": "aC42N_vyXcg2"
      },
      "execution_count": null,
      "outputs": []
    },
    {
      "cell_type": "code",
      "source": [
        "df.head()"
      ],
      "metadata": {
        "colab": {
          "base_uri": "https://localhost:8080/",
          "height": 206
        },
        "id": "gla93UiIZOL3",
        "outputId": "36b08da6-4f61-4d76-a11a-0b080e3f5d49"
      },
      "execution_count": null,
      "outputs": [
        {
          "output_type": "execute_result",
          "data": {
            "text/plain": [
              "       Date          SPX        GLD        USO     SLV   EUR/USD\n",
              "0  01/02/08  1447.160034  84.860001  78.470001  15.180  1.471692\n",
              "1  01/03/08  1447.160034  85.570000  78.370003  15.285  1.474491\n",
              "2  01/04/08  1411.630005  85.129997  77.309998  15.167  1.475492\n",
              "3  01/07/08  1416.180054  84.769997  75.500000  15.053  1.468299\n",
              "4  01/08/08  1390.189941  86.779999  76.059998  15.590  1.557099"
            ],
            "text/html": [
              "\n",
              "  <div id=\"df-9cc743e2-185e-44fc-88e3-5ead26801cd3\" class=\"colab-df-container\">\n",
              "    <div>\n",
              "<style scoped>\n",
              "    .dataframe tbody tr th:only-of-type {\n",
              "        vertical-align: middle;\n",
              "    }\n",
              "\n",
              "    .dataframe tbody tr th {\n",
              "        vertical-align: top;\n",
              "    }\n",
              "\n",
              "    .dataframe thead th {\n",
              "        text-align: right;\n",
              "    }\n",
              "</style>\n",
              "<table border=\"1\" class=\"dataframe\">\n",
              "  <thead>\n",
              "    <tr style=\"text-align: right;\">\n",
              "      <th></th>\n",
              "      <th>Date</th>\n",
              "      <th>SPX</th>\n",
              "      <th>GLD</th>\n",
              "      <th>USO</th>\n",
              "      <th>SLV</th>\n",
              "      <th>EUR/USD</th>\n",
              "    </tr>\n",
              "  </thead>\n",
              "  <tbody>\n",
              "    <tr>\n",
              "      <th>0</th>\n",
              "      <td>01/02/08</td>\n",
              "      <td>1447.160034</td>\n",
              "      <td>84.860001</td>\n",
              "      <td>78.470001</td>\n",
              "      <td>15.180</td>\n",
              "      <td>1.471692</td>\n",
              "    </tr>\n",
              "    <tr>\n",
              "      <th>1</th>\n",
              "      <td>01/03/08</td>\n",
              "      <td>1447.160034</td>\n",
              "      <td>85.570000</td>\n",
              "      <td>78.370003</td>\n",
              "      <td>15.285</td>\n",
              "      <td>1.474491</td>\n",
              "    </tr>\n",
              "    <tr>\n",
              "      <th>2</th>\n",
              "      <td>01/04/08</td>\n",
              "      <td>1411.630005</td>\n",
              "      <td>85.129997</td>\n",
              "      <td>77.309998</td>\n",
              "      <td>15.167</td>\n",
              "      <td>1.475492</td>\n",
              "    </tr>\n",
              "    <tr>\n",
              "      <th>3</th>\n",
              "      <td>01/07/08</td>\n",
              "      <td>1416.180054</td>\n",
              "      <td>84.769997</td>\n",
              "      <td>75.500000</td>\n",
              "      <td>15.053</td>\n",
              "      <td>1.468299</td>\n",
              "    </tr>\n",
              "    <tr>\n",
              "      <th>4</th>\n",
              "      <td>01/08/08</td>\n",
              "      <td>1390.189941</td>\n",
              "      <td>86.779999</td>\n",
              "      <td>76.059998</td>\n",
              "      <td>15.590</td>\n",
              "      <td>1.557099</td>\n",
              "    </tr>\n",
              "  </tbody>\n",
              "</table>\n",
              "</div>\n",
              "    <div class=\"colab-df-buttons\">\n",
              "\n",
              "  <div class=\"colab-df-container\">\n",
              "    <button class=\"colab-df-convert\" onclick=\"convertToInteractive('df-9cc743e2-185e-44fc-88e3-5ead26801cd3')\"\n",
              "            title=\"Convert this dataframe to an interactive table.\"\n",
              "            style=\"display:none;\">\n",
              "\n",
              "  <svg xmlns=\"http://www.w3.org/2000/svg\" height=\"24px\" viewBox=\"0 -960 960 960\">\n",
              "    <path d=\"M120-120v-720h720v720H120Zm60-500h600v-160H180v160Zm220 220h160v-160H400v160Zm0 220h160v-160H400v160ZM180-400h160v-160H180v160Zm440 0h160v-160H620v160ZM180-180h160v-160H180v160Zm440 0h160v-160H620v160Z\"/>\n",
              "  </svg>\n",
              "    </button>\n",
              "\n",
              "  <style>\n",
              "    .colab-df-container {\n",
              "      display:flex;\n",
              "      gap: 12px;\n",
              "    }\n",
              "\n",
              "    .colab-df-convert {\n",
              "      background-color: #E8F0FE;\n",
              "      border: none;\n",
              "      border-radius: 50%;\n",
              "      cursor: pointer;\n",
              "      display: none;\n",
              "      fill: #1967D2;\n",
              "      height: 32px;\n",
              "      padding: 0 0 0 0;\n",
              "      width: 32px;\n",
              "    }\n",
              "\n",
              "    .colab-df-convert:hover {\n",
              "      background-color: #E2EBFA;\n",
              "      box-shadow: 0px 1px 2px rgba(60, 64, 67, 0.3), 0px 1px 3px 1px rgba(60, 64, 67, 0.15);\n",
              "      fill: #174EA6;\n",
              "    }\n",
              "\n",
              "    .colab-df-buttons div {\n",
              "      margin-bottom: 4px;\n",
              "    }\n",
              "\n",
              "    [theme=dark] .colab-df-convert {\n",
              "      background-color: #3B4455;\n",
              "      fill: #D2E3FC;\n",
              "    }\n",
              "\n",
              "    [theme=dark] .colab-df-convert:hover {\n",
              "      background-color: #434B5C;\n",
              "      box-shadow: 0px 1px 3px 1px rgba(0, 0, 0, 0.15);\n",
              "      filter: drop-shadow(0px 1px 2px rgba(0, 0, 0, 0.3));\n",
              "      fill: #FFFFFF;\n",
              "    }\n",
              "  </style>\n",
              "\n",
              "    <script>\n",
              "      const buttonEl =\n",
              "        document.querySelector('#df-9cc743e2-185e-44fc-88e3-5ead26801cd3 button.colab-df-convert');\n",
              "      buttonEl.style.display =\n",
              "        google.colab.kernel.accessAllowed ? 'block' : 'none';\n",
              "\n",
              "      async function convertToInteractive(key) {\n",
              "        const element = document.querySelector('#df-9cc743e2-185e-44fc-88e3-5ead26801cd3');\n",
              "        const dataTable =\n",
              "          await google.colab.kernel.invokeFunction('convertToInteractive',\n",
              "                                                    [key], {});\n",
              "        if (!dataTable) return;\n",
              "\n",
              "        const docLinkHtml = 'Like what you see? Visit the ' +\n",
              "          '<a target=\"_blank\" href=https://colab.research.google.com/notebooks/data_table.ipynb>data table notebook</a>'\n",
              "          + ' to learn more about interactive tables.';\n",
              "        element.innerHTML = '';\n",
              "        dataTable['output_type'] = 'display_data';\n",
              "        await google.colab.output.renderOutput(dataTable, element);\n",
              "        const docLink = document.createElement('div');\n",
              "        docLink.innerHTML = docLinkHtml;\n",
              "        element.appendChild(docLink);\n",
              "      }\n",
              "    </script>\n",
              "  </div>\n",
              "\n",
              "\n",
              "<div id=\"df-876a2c24-ed90-4ab4-89b5-4f4a201c8b2a\">\n",
              "  <button class=\"colab-df-quickchart\" onclick=\"quickchart('df-876a2c24-ed90-4ab4-89b5-4f4a201c8b2a')\"\n",
              "            title=\"Suggest charts\"\n",
              "            style=\"display:none;\">\n",
              "\n",
              "<svg xmlns=\"http://www.w3.org/2000/svg\" height=\"24px\"viewBox=\"0 0 24 24\"\n",
              "     width=\"24px\">\n",
              "    <g>\n",
              "        <path d=\"M19 3H5c-1.1 0-2 .9-2 2v14c0 1.1.9 2 2 2h14c1.1 0 2-.9 2-2V5c0-1.1-.9-2-2-2zM9 17H7v-7h2v7zm4 0h-2V7h2v10zm4 0h-2v-4h2v4z\"/>\n",
              "    </g>\n",
              "</svg>\n",
              "  </button>\n",
              "\n",
              "<style>\n",
              "  .colab-df-quickchart {\n",
              "      --bg-color: #E8F0FE;\n",
              "      --fill-color: #1967D2;\n",
              "      --hover-bg-color: #E2EBFA;\n",
              "      --hover-fill-color: #174EA6;\n",
              "      --disabled-fill-color: #AAA;\n",
              "      --disabled-bg-color: #DDD;\n",
              "  }\n",
              "\n",
              "  [theme=dark] .colab-df-quickchart {\n",
              "      --bg-color: #3B4455;\n",
              "      --fill-color: #D2E3FC;\n",
              "      --hover-bg-color: #434B5C;\n",
              "      --hover-fill-color: #FFFFFF;\n",
              "      --disabled-bg-color: #3B4455;\n",
              "      --disabled-fill-color: #666;\n",
              "  }\n",
              "\n",
              "  .colab-df-quickchart {\n",
              "    background-color: var(--bg-color);\n",
              "    border: none;\n",
              "    border-radius: 50%;\n",
              "    cursor: pointer;\n",
              "    display: none;\n",
              "    fill: var(--fill-color);\n",
              "    height: 32px;\n",
              "    padding: 0;\n",
              "    width: 32px;\n",
              "  }\n",
              "\n",
              "  .colab-df-quickchart:hover {\n",
              "    background-color: var(--hover-bg-color);\n",
              "    box-shadow: 0 1px 2px rgba(60, 64, 67, 0.3), 0 1px 3px 1px rgba(60, 64, 67, 0.15);\n",
              "    fill: var(--button-hover-fill-color);\n",
              "  }\n",
              "\n",
              "  .colab-df-quickchart-complete:disabled,\n",
              "  .colab-df-quickchart-complete:disabled:hover {\n",
              "    background-color: var(--disabled-bg-color);\n",
              "    fill: var(--disabled-fill-color);\n",
              "    box-shadow: none;\n",
              "  }\n",
              "\n",
              "  .colab-df-spinner {\n",
              "    border: 2px solid var(--fill-color);\n",
              "    border-color: transparent;\n",
              "    border-bottom-color: var(--fill-color);\n",
              "    animation:\n",
              "      spin 1s steps(1) infinite;\n",
              "  }\n",
              "\n",
              "  @keyframes spin {\n",
              "    0% {\n",
              "      border-color: transparent;\n",
              "      border-bottom-color: var(--fill-color);\n",
              "      border-left-color: var(--fill-color);\n",
              "    }\n",
              "    20% {\n",
              "      border-color: transparent;\n",
              "      border-left-color: var(--fill-color);\n",
              "      border-top-color: var(--fill-color);\n",
              "    }\n",
              "    30% {\n",
              "      border-color: transparent;\n",
              "      border-left-color: var(--fill-color);\n",
              "      border-top-color: var(--fill-color);\n",
              "      border-right-color: var(--fill-color);\n",
              "    }\n",
              "    40% {\n",
              "      border-color: transparent;\n",
              "      border-right-color: var(--fill-color);\n",
              "      border-top-color: var(--fill-color);\n",
              "    }\n",
              "    60% {\n",
              "      border-color: transparent;\n",
              "      border-right-color: var(--fill-color);\n",
              "    }\n",
              "    80% {\n",
              "      border-color: transparent;\n",
              "      border-right-color: var(--fill-color);\n",
              "      border-bottom-color: var(--fill-color);\n",
              "    }\n",
              "    90% {\n",
              "      border-color: transparent;\n",
              "      border-bottom-color: var(--fill-color);\n",
              "    }\n",
              "  }\n",
              "</style>\n",
              "\n",
              "  <script>\n",
              "    async function quickchart(key) {\n",
              "      const quickchartButtonEl =\n",
              "        document.querySelector('#' + key + ' button');\n",
              "      quickchartButtonEl.disabled = true;  // To prevent multiple clicks.\n",
              "      quickchartButtonEl.classList.add('colab-df-spinner');\n",
              "      try {\n",
              "        const charts = await google.colab.kernel.invokeFunction(\n",
              "            'suggestCharts', [key], {});\n",
              "      } catch (error) {\n",
              "        console.error('Error during call to suggestCharts:', error);\n",
              "      }\n",
              "      quickchartButtonEl.classList.remove('colab-df-spinner');\n",
              "      quickchartButtonEl.classList.add('colab-df-quickchart-complete');\n",
              "    }\n",
              "    (() => {\n",
              "      let quickchartButtonEl =\n",
              "        document.querySelector('#df-876a2c24-ed90-4ab4-89b5-4f4a201c8b2a button');\n",
              "      quickchartButtonEl.style.display =\n",
              "        google.colab.kernel.accessAllowed ? 'block' : 'none';\n",
              "    })();\n",
              "  </script>\n",
              "</div>\n",
              "\n",
              "    </div>\n",
              "  </div>\n"
            ]
          },
          "metadata": {},
          "execution_count": 8
        }
      ]
    },
    {
      "cell_type": "markdown",
      "source": [
        "In the above GLD is our traget variable as it contains the Gold Price that we want to predict and the rest are the features we are going to use"
      ],
      "metadata": {
        "id": "inX7TODWZVo4"
      }
    },
    {
      "cell_type": "code",
      "source": [
        "# Seperating the independent and dependent Variables\n",
        "\n",
        "X = df[['SPX','USO','SLV','EUR/USD']]\n",
        "y = df['GLD']"
      ],
      "metadata": {
        "id": "odiTLi68ZSRb"
      },
      "execution_count": null,
      "outputs": []
    },
    {
      "cell_type": "markdown",
      "source": [
        "Spliting the dataset into train test set"
      ],
      "metadata": {
        "id": "rUtAsuw4aqMC"
      }
    },
    {
      "cell_type": "code",
      "source": [
        "train_x, test_x, train_y, test_y = train_test_split(X,y, test_size = 0.2)"
      ],
      "metadata": {
        "id": "XFjp4mXCaoxf"
      },
      "execution_count": null,
      "outputs": []
    },
    {
      "cell_type": "markdown",
      "source": [
        "Scaling the Data"
      ],
      "metadata": {
        "id": "CsQ7X8o_bXN0"
      }
    },
    {
      "cell_type": "code",
      "source": [
        "scaler = MinMaxScaler()"
      ],
      "metadata": {
        "id": "nPCiCUhvbAN4"
      },
      "execution_count": null,
      "outputs": []
    },
    {
      "cell_type": "code",
      "source": [
        "train_x_scaled = scaler.fit_transform(train_x)\n",
        "test_x_scaled = scaler.fit_transform(test_x)"
      ],
      "metadata": {
        "id": "DvkIAKn0be15"
      },
      "execution_count": null,
      "outputs": []
    },
    {
      "cell_type": "markdown",
      "source": [
        "initializing the model"
      ],
      "metadata": {
        "id": "yq4zZrFrcTlu"
      }
    },
    {
      "cell_type": "code",
      "source": [
        "model = Sequential()"
      ],
      "metadata": {
        "id": "z8wgLhtmcGvA"
      },
      "execution_count": null,
      "outputs": []
    },
    {
      "cell_type": "markdown",
      "source": [
        "Adding the layers in the model"
      ],
      "metadata": {
        "id": "qrlgrfuccZ7j"
      }
    },
    {
      "cell_type": "code",
      "source": [
        "model.add(Dense(10,activation='relu',input_dim=4))\n",
        "model.add(Dense(10,activation='relu'))\n",
        "model.add(Dense(1,activation='linear'))"
      ],
      "metadata": {
        "id": "r_o2E2V0cZiz"
      },
      "execution_count": null,
      "outputs": []
    },
    {
      "cell_type": "markdown",
      "source": [
        "Compiling the model"
      ],
      "metadata": {
        "id": "JRoYTAf9d3BI"
      }
    },
    {
      "cell_type": "code",
      "source": [
        "model.compile(loss=\"mean_squared_error\",optimizer='Adam')"
      ],
      "metadata": {
        "id": "1HsrR7sGdmXL"
      },
      "execution_count": null,
      "outputs": []
    },
    {
      "cell_type": "markdown",
      "source": [
        "Fiting the features in the Model"
      ],
      "metadata": {
        "id": "rwn8G2-geYEJ"
      }
    },
    {
      "cell_type": "code",
      "source": [
        "history = model.fit(train_x_scaled,train_y,epochs=50, validation_split=0.1)"
      ],
      "metadata": {
        "colab": {
          "base_uri": "https://localhost:8080/"
        },
        "id": "yQ96FBPyd2qb",
        "outputId": "1b855e87-e5b8-4c03-9bf1-1702483cf99f"
      },
      "execution_count": null,
      "outputs": [
        {
          "output_type": "stream",
          "name": "stdout",
          "text": [
            "Epoch 1/50\n",
            "52/52 [==============================] - 1s 6ms/step - loss: 15591.2412 - val_loss: 15614.9834\n",
            "Epoch 2/50\n",
            "52/52 [==============================] - 0s 3ms/step - loss: 15529.3887 - val_loss: 15524.8994\n",
            "Epoch 3/50\n",
            "52/52 [==============================] - 0s 2ms/step - loss: 15401.4492 - val_loss: 15352.2295\n",
            "Epoch 4/50\n",
            "52/52 [==============================] - 0s 2ms/step - loss: 15160.2051 - val_loss: 15027.6113\n",
            "Epoch 5/50\n",
            "52/52 [==============================] - 0s 3ms/step - loss: 14721.4883 - val_loss: 14462.6016\n",
            "Epoch 6/50\n",
            "52/52 [==============================] - 0s 3ms/step - loss: 14019.1406 - val_loss: 13618.7285\n",
            "Epoch 7/50\n",
            "52/52 [==============================] - 0s 3ms/step - loss: 13036.2910 - val_loss: 12488.4941\n",
            "Epoch 8/50\n",
            "52/52 [==============================] - 0s 2ms/step - loss: 11656.3652 - val_loss: 10842.8193\n",
            "Epoch 9/50\n",
            "52/52 [==============================] - 0s 3ms/step - loss: 9871.0469 - val_loss: 8942.1084\n",
            "Epoch 10/50\n",
            "52/52 [==============================] - 0s 2ms/step - loss: 7917.0894 - val_loss: 6953.0522\n",
            "Epoch 11/50\n",
            "52/52 [==============================] - 0s 3ms/step - loss: 5973.4048 - val_loss: 5049.3242\n",
            "Epoch 12/50\n",
            "52/52 [==============================] - 0s 2ms/step - loss: 4219.0771 - val_loss: 3435.7324\n",
            "Epoch 13/50\n",
            "52/52 [==============================] - 0s 3ms/step - loss: 2817.4250 - val_loss: 2182.6738\n",
            "Epoch 14/50\n",
            "52/52 [==============================] - 0s 3ms/step - loss: 1824.8430 - val_loss: 1357.4351\n",
            "Epoch 15/50\n",
            "52/52 [==============================] - 0s 2ms/step - loss: 1216.1938 - val_loss: 873.9798\n",
            "Epoch 16/50\n",
            "52/52 [==============================] - 0s 3ms/step - loss: 896.5563 - val_loss: 627.5206\n",
            "Epoch 17/50\n",
            "52/52 [==============================] - 0s 2ms/step - loss: 749.2744 - val_loss: 511.7604\n",
            "Epoch 18/50\n",
            "52/52 [==============================] - 0s 2ms/step - loss: 680.7108 - val_loss: 450.5591\n",
            "Epoch 19/50\n",
            "52/52 [==============================] - 0s 2ms/step - loss: 633.8234 - val_loss: 413.9889\n",
            "Epoch 20/50\n",
            "52/52 [==============================] - 0s 2ms/step - loss: 596.6064 - val_loss: 385.5788\n",
            "Epoch 21/50\n",
            "52/52 [==============================] - 0s 2ms/step - loss: 562.0372 - val_loss: 360.7310\n",
            "Epoch 22/50\n",
            "52/52 [==============================] - 0s 2ms/step - loss: 528.4263 - val_loss: 338.1943\n",
            "Epoch 23/50\n",
            "52/52 [==============================] - 0s 2ms/step - loss: 495.9787 - val_loss: 316.3778\n",
            "Epoch 24/50\n",
            "52/52 [==============================] - 0s 2ms/step - loss: 464.1575 - val_loss: 295.3746\n",
            "Epoch 25/50\n",
            "52/52 [==============================] - 0s 2ms/step - loss: 433.2223 - val_loss: 276.5044\n",
            "Epoch 26/50\n",
            "52/52 [==============================] - 0s 2ms/step - loss: 404.3568 - val_loss: 258.8791\n",
            "Epoch 27/50\n",
            "52/52 [==============================] - 0s 2ms/step - loss: 376.7035 - val_loss: 243.2866\n",
            "Epoch 28/50\n",
            "52/52 [==============================] - 0s 2ms/step - loss: 350.2459 - val_loss: 225.8877\n",
            "Epoch 29/50\n",
            "52/52 [==============================] - 0s 3ms/step - loss: 325.1817 - val_loss: 211.4181\n",
            "Epoch 30/50\n",
            "52/52 [==============================] - 0s 2ms/step - loss: 302.0100 - val_loss: 199.0844\n",
            "Epoch 31/50\n",
            "52/52 [==============================] - 0s 2ms/step - loss: 280.2834 - val_loss: 186.2061\n",
            "Epoch 32/50\n",
            "52/52 [==============================] - 0s 2ms/step - loss: 260.3730 - val_loss: 174.9640\n",
            "Epoch 33/50\n",
            "52/52 [==============================] - 0s 2ms/step - loss: 241.8121 - val_loss: 165.0901\n",
            "Epoch 34/50\n",
            "52/52 [==============================] - 0s 2ms/step - loss: 224.6629 - val_loss: 155.8838\n",
            "Epoch 35/50\n",
            "52/52 [==============================] - 0s 2ms/step - loss: 209.3907 - val_loss: 147.7850\n",
            "Epoch 36/50\n",
            "52/52 [==============================] - 0s 2ms/step - loss: 194.7831 - val_loss: 140.5217\n",
            "Epoch 37/50\n",
            "52/52 [==============================] - 0s 3ms/step - loss: 181.6517 - val_loss: 134.0483\n",
            "Epoch 38/50\n",
            "52/52 [==============================] - 0s 2ms/step - loss: 170.0495 - val_loss: 127.9030\n",
            "Epoch 39/50\n",
            "52/52 [==============================] - 0s 3ms/step - loss: 158.9131 - val_loss: 122.7010\n",
            "Epoch 40/50\n",
            "52/52 [==============================] - 0s 2ms/step - loss: 149.1243 - val_loss: 118.3433\n",
            "Epoch 41/50\n",
            "52/52 [==============================] - 0s 3ms/step - loss: 140.9240 - val_loss: 114.1256\n",
            "Epoch 42/50\n",
            "52/52 [==============================] - 0s 2ms/step - loss: 132.4164 - val_loss: 110.7346\n",
            "Epoch 43/50\n",
            "52/52 [==============================] - 0s 2ms/step - loss: 125.2765 - val_loss: 107.7787\n",
            "Epoch 44/50\n",
            "52/52 [==============================] - 0s 3ms/step - loss: 118.8870 - val_loss: 105.1179\n",
            "Epoch 45/50\n",
            "52/52 [==============================] - 0s 3ms/step - loss: 112.9510 - val_loss: 102.7943\n",
            "Epoch 46/50\n",
            "52/52 [==============================] - 0s 2ms/step - loss: 107.7154 - val_loss: 101.1109\n",
            "Epoch 47/50\n",
            "52/52 [==============================] - 0s 2ms/step - loss: 103.1758 - val_loss: 99.3916\n",
            "Epoch 48/50\n",
            "52/52 [==============================] - 0s 2ms/step - loss: 98.8753 - val_loss: 97.5580\n",
            "Epoch 49/50\n",
            "52/52 [==============================] - 0s 2ms/step - loss: 95.4410 - val_loss: 96.0687\n",
            "Epoch 50/50\n",
            "52/52 [==============================] - 0s 2ms/step - loss: 91.9885 - val_loss: 96.3146\n"
          ]
        }
      ]
    },
    {
      "cell_type": "markdown",
      "source": [
        "Presicting the test data"
      ],
      "metadata": {
        "id": "ahAAXmZHemRY"
      }
    },
    {
      "cell_type": "code",
      "source": [
        "y_pred = model.predict(test_x_scaled)"
      ],
      "metadata": {
        "colab": {
          "base_uri": "https://localhost:8080/"
        },
        "id": "56dd1DmjeeXm",
        "outputId": "43fa5834-9e18-4360-ad1b-cb7376420788"
      },
      "execution_count": null,
      "outputs": [
        {
          "output_type": "stream",
          "name": "stdout",
          "text": [
            "15/15 [==============================] - 0s 2ms/step\n"
          ]
        }
      ]
    },
    {
      "cell_type": "markdown",
      "source": [
        "Evaluating the model score"
      ],
      "metadata": {
        "id": "GBEPe_2JfFvx"
      }
    },
    {
      "cell_type": "code",
      "source": [
        "from sklearn.metrics import r2_score"
      ],
      "metadata": {
        "id": "DPsRtV4xe2LZ"
      },
      "execution_count": null,
      "outputs": []
    },
    {
      "cell_type": "code",
      "source": [
        "r2_score(test_y, y_pred)"
      ],
      "metadata": {
        "colab": {
          "base_uri": "https://localhost:8080/"
        },
        "id": "fBdiDWuqfOy6",
        "outputId": "b4cb4596-4c39-4e5c-dd09-4f57d711ef06"
      },
      "execution_count": null,
      "outputs": [
        {
          "output_type": "execute_result",
          "data": {
            "text/plain": [
              "0.7811178174603037"
            ]
          },
          "metadata": {},
          "execution_count": 19
        }
      ]
    },
    {
      "cell_type": "markdown",
      "source": [
        "Visualising the results"
      ],
      "metadata": {
        "id": "cofVr_d6kbp2"
      }
    },
    {
      "cell_type": "code",
      "source": [
        "from sklearn.metrics import roc_curve\n",
        "import matplotlib.pyplot as plt\n",
        "from sklearn.metrics import confusion_matrix\n",
        "import seaborn as sns"
      ],
      "metadata": {
        "id": "V-y3K9AikgEe"
      },
      "execution_count": null,
      "outputs": []
    },
    {
      "cell_type": "code",
      "source": [
        "# prompt: visualise the findings of the model\n",
        "\n",
        "plt.plot(history.history['loss'], label='train loss')\n",
        "plt.plot(history.history['val_loss'], label='test loss')\n",
        "plt.xlabel('Epoch')\n",
        "plt.ylabel('Loss')\n",
        "plt.legend()\n",
        "plt.show()\n"
      ],
      "metadata": {
        "colab": {
          "base_uri": "https://localhost:8080/",
          "height": 449
        },
        "id": "r_mgtcYIk9si",
        "outputId": "6f8305f4-a71e-4198-8df8-942216e96da9"
      },
      "execution_count": null,
      "outputs": [
        {
          "output_type": "display_data",
          "data": {
            "text/plain": [
              "<Figure size 640x480 with 1 Axes>"
            ],
            "image/png": "[encoded data removed]"
          },
          "metadata": {}
        }
      ]
    }
  ]
}