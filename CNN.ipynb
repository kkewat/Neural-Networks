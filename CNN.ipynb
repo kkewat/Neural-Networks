{
  "nbformat": 4,
  "nbformat_minor": 0,
  "metadata": {
    "colab": {
      "provenance": [],
      "authorship_tag": "ABX9TyNTUhxLRdi/1V+sa4/1Tdor",
      "include_colab_link": true
    },
    "kernelspec": {
      "name": "python3",
      "display_name": "Python 3"
    },
    "language_info": {
      "name": "python"
    }
  },
  "cells": [
    {
      "cell_type": "markdown",
      "metadata": {
        "id": "view-in-github",
        "colab_type": "text"
      },
      "source": [
        "<a href=\"https://colab.research.google.com/github/kkewat/Neural-Networks/blob/main/CNN.ipynb\" target=\"_parent\"><img src=\"https://colab.research.google.com/assets/colab-badge.svg\" alt=\"Open In Colab\"/></a>"
      ]
    },
    {
      "cell_type": "code",
      "execution_count": 22,
      "metadata": {
        "id": "nYvtRyR20Xip"
      },
      "outputs": [],
      "source": [
        "import numpy as np\n",
        "import matplotlib.pyplot as plt\n",
        "%matplotlib inline"
      ]
    },
    {
      "cell_type": "code",
      "source": [
        "import tensorflow as tf\n",
        "from tensorflow import keras\n",
        "from tensorflow.keras import Sequential\n",
        "from tensorflow.keras.layers import Input, Conv2D, Dense, Flatten, Dropout\n",
        "from tensorflow.keras.layers import GlobalMaxPooling2D, MaxPooling2D\n",
        "from tensorflow.keras.layers import BatchNormalization\n",
        "from tensorflow.keras.models import Model\n",
        "from tensorflow.keras import regularizers, optimizers\n",
        "from tensorflow.keras.utils import to_categorical"
      ],
      "metadata": {
        "id": "1XkgnoKa18Lq"
      },
      "execution_count": 23,
      "outputs": []
    },
    {
      "cell_type": "code",
      "source": [
        "from sklearn.metrics import accuracy_score"
      ],
      "metadata": {
        "id": "dn7EEJ7L3M1Z"
      },
      "execution_count": 24,
      "outputs": []
    },
    {
      "cell_type": "code",
      "source": [
        "from tensorflow.keras.datasets import cifar10"
      ],
      "metadata": {
        "id": "78mAIyil3gtD"
      },
      "execution_count": 25,
      "outputs": []
    },
    {
      "cell_type": "code",
      "source": [
        "(X_train, y_train),(X_test,y_test) = cifar10.load_data()"
      ],
      "metadata": {
        "id": "8ihiC8rt314k"
      },
      "execution_count": 26,
      "outputs": []
    },
    {
      "cell_type": "code",
      "source": [
        "plt.imshow(X_train[0])"
      ],
      "metadata": {
        "colab": {
          "base_uri": "https://localhost:8080/",
          "height": 447
        },
        "id": "OfnG8NzG46qu",
        "outputId": "7113ef7b-2279-4a6b-a425-afa82d1e2709"
      },
      "execution_count": 27,
      "outputs": [
        {
          "output_type": "execute_result",
          "data": {
            "text/plain": [
              "<matplotlib.image.AxesImage at 0x7bff56c034f0>"
            ]
          },
          "metadata": {},
          "execution_count": 27
        },
        {
          "output_type": "display_data",
          "data": {
            "text/plain": [
              "<Figure size 640x480 with 1 Axes>"
            ],
            "image/png": "[encoded data removed]"
          },
          "metadata": {}
        }
      ]
    },
    {
      "cell_type": "code",
      "source": [
        "plt.imshow(X_train[10101])"
      ],
      "metadata": {
        "colab": {
          "base_uri": "https://localhost:8080/",
          "height": 447
        },
        "id": "JxeWFEk45M3Z",
        "outputId": "8c256014-60be-49ff-ef26-0229c4634680"
      },
      "execution_count": 28,
      "outputs": [
        {
          "output_type": "execute_result",
          "data": {
            "text/plain": [
              "<matplotlib.image.AxesImage at 0x7bff56cc6560>"
            ]
          },
          "metadata": {},
          "execution_count": 28
        },
        {
          "output_type": "display_data",
          "data": {
            "text/plain": [
              "<Figure size 640x480 with 1 Axes>"
            ],
            "image/png": "[encoded data removed]"
          },
          "metadata": {}
        }
      ]
    },
    {
      "cell_type": "code",
      "source": [
        "print(X_train[1])"
      ],
      "metadata": {
        "colab": {
          "base_uri": "https://localhost:8080/"
        },
        "id": "eLcf5giX5UIy",
        "outputId": "0697a8a9-59c0-4e88-c94e-0b28a857be45"
      },
      "execution_count": 29,
      "outputs": [
        {
          "output_type": "stream",
          "name": "stdout",
          "text": [
            "[[[154 177 187]\n",
            "  [126 137 136]\n",
            "  [105 104  95]\n",
            "  ...\n",
            "  [ 91  95  71]\n",
            "  [ 87  90  71]\n",
            "  [ 79  81  70]]\n",
            "\n",
            " [[140 160 169]\n",
            "  [145 153 154]\n",
            "  [125 125 118]\n",
            "  ...\n",
            "  [ 96  99  78]\n",
            "  [ 77  80  62]\n",
            "  [ 71  73  61]]\n",
            "\n",
            " [[140 155 164]\n",
            "  [139 146 149]\n",
            "  [115 115 112]\n",
            "  ...\n",
            "  [ 79  82  64]\n",
            "  [ 68  70  55]\n",
            "  [ 67  69  55]]\n",
            "\n",
            " ...\n",
            "\n",
            " [[175 167 166]\n",
            "  [156 154 160]\n",
            "  [154 160 170]\n",
            "  ...\n",
            "  [ 42  34  36]\n",
            "  [ 61  53  57]\n",
            "  [ 93  83  91]]\n",
            "\n",
            " [[165 154 128]\n",
            "  [156 152 130]\n",
            "  [159 161 142]\n",
            "  ...\n",
            "  [103  93  96]\n",
            "  [123 114 120]\n",
            "  [131 121 131]]\n",
            "\n",
            " [[163 148 120]\n",
            "  [158 148 122]\n",
            "  [163 156 133]\n",
            "  ...\n",
            "  [143 133 139]\n",
            "  [143 134 142]\n",
            "  [143 133 144]]]\n"
          ]
        }
      ]
    },
    {
      "cell_type": "code",
      "source": [
        "X_train = X_train/255\n",
        "X_test = X_test/255"
      ],
      "metadata": {
        "id": "e4jIRR0r5hTK"
      },
      "execution_count": 30,
      "outputs": []
    },
    {
      "cell_type": "code",
      "source": [
        "y_train_en = to_categorical(y_train,10)\n",
        "y_test_en = to_categorical(y_test,10)"
      ],
      "metadata": {
        "id": "xzKx6TVF5zQv"
      },
      "execution_count": 31,
      "outputs": []
    },
    {
      "cell_type": "code",
      "source": [
        "model = Sequential()"
      ],
      "metadata": {
        "id": "vf_dWXlN6S6_"
      },
      "execution_count": 32,
      "outputs": []
    },
    {
      "cell_type": "code",
      "source": [
        "# Add a Conv2D layer with 32 filters, each of size (4, 4), and 'relu' activation\n",
        "# Specify the input shape as (32, 32, 3) for 32x32 RGB images\n",
        "model.add(Conv2D(32, (4, 4), input_shape=(32, 32, 3), activation='relu'))\n",
        "model.add(MaxPooling2D(pool_size=(2, 2)))\n",
        "\n",
        "# Add another Conv2D layer with 32 filters, each of size (4, 4), and 'relu' activation\n",
        "model.add(Conv2D(32, (4, 4), activation='relu'))\n",
        "model.add(MaxPooling2D(pool_size=(2, 2)))\n",
        "\n",
        "# Flatten the output from the convolutional layers before feeding it into the dense layers\n",
        "model.add(Flatten())\n",
        "\n",
        "# Add a Dense layer with 128 units and 'relu' activation\n",
        "model.add(Dense(128, activation='relu'))\n",
        "\n",
        "# Add a Dense layer with 10 units (output layer for classification) and 'softmax' activation\n",
        "model.add(Dense(10, activation='softmax'))\n",
        "\n",
        "# Compile the model\n",
        "model.compile(loss='categorical_crossentropy', optimizer='adam', metrics=['accuracy'])"
      ],
      "metadata": {
        "id": "oPTYoPIQ6b2P"
      },
      "execution_count": 33,
      "outputs": []
    },
    {
      "cell_type": "code",
      "source": [
        "model.summary()"
      ],
      "metadata": {
        "colab": {
          "base_uri": "https://localhost:8080/"
        },
        "id": "zvqQ3xr89wSW",
        "outputId": "c94aa63b-6c2f-4c4e-9180-df6400f3a658"
      },
      "execution_count": 34,
      "outputs": [
        {
          "output_type": "stream",
          "name": "stdout",
          "text": [
            "Model: \"sequential_1\"\n",
            "_________________________________________________________________\n",
            " Layer (type)                Output Shape              Param #   \n",
            "=================================================================\n",
            " conv2d_7 (Conv2D)           (None, 29, 29, 32)        1568      \n",
            "                                                                 \n",
            " max_pooling2d_3 (MaxPoolin  (None, 14, 14, 32)        0         \n",
            " g2D)                                                            \n",
            "                                                                 \n",
            " conv2d_8 (Conv2D)           (None, 11, 11, 32)        16416     \n",
            "                                                                 \n",
            " max_pooling2d_4 (MaxPoolin  (None, 5, 5, 32)          0         \n",
            " g2D)                                                            \n",
            "                                                                 \n",
            " flatten (Flatten)           (None, 800)               0         \n",
            "                                                                 \n",
            " dense (Dense)               (None, 128)               102528    \n",
            "                                                                 \n",
            " dense_1 (Dense)             (None, 10)                1290      \n",
            "                                                                 \n",
            "=================================================================\n",
            "Total params: 121802 (475.79 KB)\n",
            "Trainable params: 121802 (475.79 KB)\n",
            "Non-trainable params: 0 (0.00 Byte)\n",
            "_________________________________________________________________\n"
          ]
        }
      ]
    },
    {
      "cell_type": "code",
      "source": [
        "history = model.fit(X_train, y_train_en, epochs=20, verbose=1, validation_data=(X_test,y_test_en))"
      ],
      "metadata": {
        "colab": {
          "base_uri": "https://localhost:8080/"
        },
        "id": "LEyH9ANe-Aje",
        "outputId": "50b9f3d6-8244-4e15-e69e-db9e26d3ea9f"
      },
      "execution_count": 36,
      "outputs": [
        {
          "output_type": "stream",
          "name": "stdout",
          "text": [
            "Epoch 1/20\n",
            "1563/1563 [==============================] - 61s 39ms/step - loss: 1.2996 - accuracy: 0.5404 - val_loss: 1.2214 - val_accuracy: 0.5643\n",
            "Epoch 2/20\n",
            "1563/1563 [==============================] - 59s 38ms/step - loss: 1.1177 - accuracy: 0.6048 - val_loss: 1.0928 - val_accuracy: 0.6141\n",
            "Epoch 3/20\n",
            "1563/1563 [==============================] - 60s 38ms/step - loss: 1.0107 - accuracy: 0.6429 - val_loss: 1.0943 - val_accuracy: 0.6204\n",
            "Epoch 4/20\n",
            "1563/1563 [==============================] - 59s 38ms/step - loss: 0.9319 - accuracy: 0.6710 - val_loss: 1.0004 - val_accuracy: 0.6503\n",
            "Epoch 5/20\n",
            "1563/1563 [==============================] - 61s 39ms/step - loss: 0.8595 - accuracy: 0.6982 - val_loss: 0.9758 - val_accuracy: 0.6670\n",
            "Epoch 6/20\n",
            "1563/1563 [==============================] - 60s 38ms/step - loss: 0.8062 - accuracy: 0.7171 - val_loss: 0.9417 - val_accuracy: 0.6753\n",
            "Epoch 7/20\n",
            "1563/1563 [==============================] - 60s 38ms/step - loss: 0.7485 - accuracy: 0.7362 - val_loss: 0.9980 - val_accuracy: 0.6595\n",
            "Epoch 8/20\n",
            "1563/1563 [==============================] - 58s 37ms/step - loss: 0.7054 - accuracy: 0.7518 - val_loss: 0.9802 - val_accuracy: 0.6722\n",
            "Epoch 9/20\n",
            "1563/1563 [==============================] - 60s 38ms/step - loss: 0.6674 - accuracy: 0.7647 - val_loss: 0.9936 - val_accuracy: 0.6684\n",
            "Epoch 10/20\n",
            "1563/1563 [==============================] - 58s 37ms/step - loss: 0.6219 - accuracy: 0.7811 - val_loss: 0.9942 - val_accuracy: 0.6786\n",
            "Epoch 11/20\n",
            "1563/1563 [==============================] - 64s 41ms/step - loss: 0.5792 - accuracy: 0.7959 - val_loss: 1.0444 - val_accuracy: 0.6697\n",
            "Epoch 12/20\n",
            "1563/1563 [==============================] - 59s 37ms/step - loss: 0.5472 - accuracy: 0.8061 - val_loss: 1.0667 - val_accuracy: 0.6717\n",
            "Epoch 13/20\n",
            "1563/1563 [==============================] - 60s 38ms/step - loss: 0.5148 - accuracy: 0.8178 - val_loss: 1.1079 - val_accuracy: 0.6653\n",
            "Epoch 14/20\n",
            "1563/1563 [==============================] - 61s 39ms/step - loss: 0.4815 - accuracy: 0.8290 - val_loss: 1.1380 - val_accuracy: 0.6702\n",
            "Epoch 15/20\n",
            "1563/1563 [==============================] - 62s 40ms/step - loss: 0.4502 - accuracy: 0.8384 - val_loss: 1.1713 - val_accuracy: 0.6615\n",
            "Epoch 16/20\n",
            "1563/1563 [==============================] - 61s 39ms/step - loss: 0.4188 - accuracy: 0.8507 - val_loss: 1.2309 - val_accuracy: 0.6644\n",
            "Epoch 17/20\n",
            "1563/1563 [==============================] - 57s 36ms/step - loss: 0.4005 - accuracy: 0.8592 - val_loss: 1.2185 - val_accuracy: 0.6715\n",
            "Epoch 18/20\n",
            "1563/1563 [==============================] - 58s 37ms/step - loss: 0.3698 - accuracy: 0.8669 - val_loss: 1.3046 - val_accuracy: 0.6648\n",
            "Epoch 19/20\n",
            "1563/1563 [==============================] - 58s 37ms/step - loss: 0.3517 - accuracy: 0.8755 - val_loss: 1.3559 - val_accuracy: 0.6635\n",
            "Epoch 20/20\n",
            "1563/1563 [==============================] - 62s 40ms/step - loss: 0.3324 - accuracy: 0.8813 - val_loss: 1.4936 - val_accuracy: 0.6585\n"
          ]
        }
      ]
    }
  ]
}